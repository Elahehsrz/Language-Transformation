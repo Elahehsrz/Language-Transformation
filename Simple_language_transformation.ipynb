{
  "cells": [
    {
      "cell_type": "markdown",
      "metadata": {
        "id": "At_nJi5201cU"
      },
      "source": [
        "## Installs"
      ]
    },
    {
      "cell_type": "code",
      "execution_count": null,
      "metadata": {
        "id": "f0Yae6pZNauC"
      },
      "outputs": [],
      "source": [
        "pip install torch transformers matplotlib evaluate"
      ]
    },
    {
      "cell_type": "code",
      "execution_count": null,
      "metadata": {
        "id": "Bhicl6na2DEg"
      },
      "outputs": [],
      "source": [
        "pip install langchain-cohere"
      ]
    },
    {
      "cell_type": "code",
      "execution_count": null,
      "metadata": {
        "id": "JjlBLRwmAaEx"
      },
      "outputs": [],
      "source": [
        "pip install pypdf2 pdfplumber pymupdf\n"
      ]
    },
    {
      "cell_type": "code",
      "execution_count": null,
      "metadata": {
        "id": "VGUTVE318unz"
      },
      "outputs": [],
      "source": [
        "pip install requests beautifulsoup4"
      ]
    },
    {
      "cell_type": "code",
      "execution_count": null,
      "metadata": {
        "id": "TRkl5rzTN72h"
      },
      "outputs": [],
      "source": [
        "pip install python-docx\n"
      ]
    },
    {
      "cell_type": "markdown",
      "metadata": {
        "id": "3wxUaCk4Ae47"
      },
      "source": [
        "## Data.py\n"
      ]
    },
    {
      "cell_type": "markdown",
      "metadata": {
        "id": "YIxu9PLTAjZJ"
      },
      "source": [
        "This app takes word, pdf, url and txt file to make a new document with simplified language"
      ]
    },
    {
      "cell_type": "code",
      "execution_count": null,
      "metadata": {
        "id": "34Lw1GBmBizS"
      },
      "outputs": [],
      "source": [
        "from PyPDF2 import PdfReader\n",
        "import pdfplumber\n",
        "from docx import Document\n",
        "import requests\n",
        "from bs4 import BeautifulSoup\n",
        "import fitz  # PyMuPDF"
      ]
    },
    {
      "cell_type": "code",
      "execution_count": null,
      "metadata": {
        "id": "sRprxdEcN_1A"
      },
      "outputs": [],
      "source": [
        "def open_doc(doc_path):\n",
        "  list_paragraphs = []\n",
        "  # Load the Word document\n",
        "  doc = Document(doc_path)\n",
        "\n",
        "  # Extract and print all the text\n",
        "  for paragraph in doc.paragraphs:\n",
        "      print(paragraph.text)\n",
        "      list_paragraphs.append(paragraph.text)\n",
        "  # Extract tables\n",
        "  for table in doc.tables:\n",
        "      for row in table.rows:\n",
        "          for cell in row.cells:\n",
        "              print(cell.text)\n",
        "\n",
        "  # Extract headings or styled text\n",
        "  for paragraph in doc.paragraphs:\n",
        "      if paragraph.style.name.startswith('Heading'):\n",
        "          print(f\"Heading: {paragraph.text}\")\n",
        "      else:\n",
        "          print(f\"Paragraph: {paragraph.text}\")\n",
        "  return list_paragraphs\n"
      ]
    },
    {
      "cell_type": "code",
      "execution_count": null,
      "metadata": {
        "id": "b1jOUPBCvDM9"
      },
      "outputs": [],
      "source": [
        "def open_doc_dict(doc_path):\n",
        "    \"\"\"\n",
        "    Opens a Word document, extracts headings and their corresponding paragraphs,\n",
        "    and returns a dictionary of headings and paragraphs.\n",
        "\n",
        "    Args:\n",
        "        doc_path (str): Path to the Word document.\n",
        "\n",
        "    Returns:\n",
        "        dict: A dictionary where keys are headings and values are lists of paragraphs.\n",
        "    \"\"\"\n",
        "    # Load the Word document\n",
        "    doc = Document(doc_path)\n",
        "\n",
        "    # Dictionary to store headings and paragraphs\n",
        "    heading_dict = {}\n",
        "    current_heading = None\n",
        "\n",
        "    # Iterate through paragraphs\n",
        "    for paragraph in doc.paragraphs:\n",
        "        if paragraph.style.name.startswith('Heading'):\n",
        "            # Start a new heading\n",
        "            current_heading = paragraph.text.strip()\n",
        "            if current_heading:  # Avoid empty headings\n",
        "                heading_dict[current_heading] = []  # Initialize list for its paragraphs\n",
        "        else:\n",
        "            # Add paragraph to the current heading\n",
        "            if current_heading:\n",
        "                text = paragraph.text.strip()\n",
        "                if text:  # Avoid adding empty paragraphs\n",
        "                    heading_dict[current_heading].append(text)\n",
        "\n",
        "    return heading_dict\n"
      ]
    },
    {
      "cell_type": "code",
      "execution_count": null,
      "metadata": {
        "id": "RwEIZy7OVtFq"
      },
      "outputs": [],
      "source": [
        "def open_md_dict(md_path):\n",
        "    \"\"\"\n",
        "    Opens a Markdown (.md) file, extracts headings and their corresponding paragraphs,\n",
        "    and returns a dictionary of headings and paragraphs.\n",
        "\n",
        "    Args:\n",
        "        doc_path (str): Path to the Markdown file.\n",
        "\n",
        "    Returns:\n",
        "        dict: A dictionary where keys are headings and values are lists of paragraphs.\n",
        "    \"\"\"\n",
        "    # Dictionary to store headings and paragraphs\n",
        "    heading_dict = {}\n",
        "    current_heading = None\n",
        "\n",
        "    # Open and read the Markdown file\n",
        "    with open(md_path, 'r', encoding='utf-8') as file:\n",
        "        for line in file:\n",
        "            line = line.strip()  # Remove leading and trailing whitespace\n",
        "            if line.startswith('#'):  # Detect Markdown headings\n",
        "                # Determine heading level based on number of '#' characters\n",
        "                current_heading = line.lstrip('#').strip()\n",
        "                if current_heading:  # Avoid empty headings\n",
        "                    heading_dict[current_heading] = []  # Initialize list for its paragraphs\n",
        "            elif current_heading:\n",
        "                # Add non-empty lines as paragraphs to the current heading\n",
        "                if line:  # Avoid adding empty lines\n",
        "                    heading_dict[current_heading].append(line)\n",
        "\n",
        "    return heading_dict\n"
      ]
    },
    {
      "cell_type": "code",
      "execution_count": null,
      "metadata": {
        "id": "WUnR5m4AUQ5h"
      },
      "outputs": [],
      "source": [
        "def open_pdf_dict(doc_path):\n",
        "    \"\"\"\n",
        "    Opens a PDF document, extracts headings and their corresponding paragraphs,\n",
        "    and returns a dictionary of headings and paragraphs.\n",
        "\n",
        "    Args:\n",
        "        doc_path (str): Path to the PDF document.\n",
        "\n",
        "    Returns:\n",
        "        dict: A dictionary where keys are headings and values are lists of paragraphs.\n",
        "    \"\"\"\n",
        "    # Open the PDF document\n",
        "    pdf_document = fitz.open(doc_path)\n",
        "\n",
        "    # Dictionary to store headings and paragraphs\n",
        "    heading_dict = {}\n",
        "    current_heading = None\n",
        "\n",
        "    # Iterate through pages in the PDF\n",
        "    for page_number in range(len(pdf_document)):\n",
        "        page = pdf_document[page_number]\n",
        "        blocks = page.get_text(\"dict\")[\"blocks\"]\n",
        "\n",
        "        for block in blocks:\n",
        "            if \"lines\" in block:  # Ensure block has text lines\n",
        "                for line in block[\"lines\"]:\n",
        "                    line_text = \" \".join(span[\"text\"] for span in line[\"spans\"]).strip()\n",
        "\n",
        "                    # Simple heuristic: Check if text is a heading based on size or formatting\n",
        "                    if any(span.get(\"flags\", 0) & 2 for span in line[\"spans\"]) or line_text.isupper():\n",
        "                        # Treat as heading\n",
        "                        current_heading = line_text\n",
        "                        heading_dict[current_heading] = []\n",
        "                    else:\n",
        "                        # Add paragraph to the current heading\n",
        "                        if current_heading:\n",
        "                            if line_text:  # Avoid adding empty lines\n",
        "                                heading_dict[current_heading].append(line_text)\n",
        "\n",
        "    pdf_document.close()\n",
        "    return heading_dict\n"
      ]
    },
    {
      "cell_type": "markdown",
      "metadata": {
        "id": "8-KtV35uA5Lf"
      },
      "source": [
        "## simple language"
      ]
    },
    {
      "cell_type": "code",
      "execution_count": null,
      "metadata": {
        "id": "LJtY7FcnNK7m"
      },
      "outputs": [],
      "source": [
        "import json\n",
        "import ast\n",
        "from tqdm import tqdm\n",
        "import re\n",
        "from llama_cpp import Llama"
      ]
    },
    {
      "cell_type": "code",
      "execution_count": null,
      "metadata": {
        "id": "4u9Jw0Kd2H79"
      },
      "outputs": [],
      "source": [
        "import cohere"
      ]
    },
    {
      "cell_type": "code",
      "execution_count": null,
      "metadata": {
        "id": "_aO2IFxaA7dF"
      },
      "outputs": [],
      "source": [
        "def chat_completion_cohere(text, API_KEY, model, system_prompt):\n",
        "  co = cohere.Client(API_KEY)\n",
        "  prompt = f\"\"\"<<SYS>>\n",
        "  {system_prompt}\n",
        "  <</SYS>>\n",
        "  You will receive paragraphs of text. Rewrite them in a simple language. Use short sentences and do not use difficult words and grammare:{text}\"\"\"\n",
        "  response = co.generate(  # Use generate instead of chat\n",
        "    model=model,\n",
        "    prompt=prompt,  # Provide the prompt directly # Adjust as needed\n",
        "  )\n",
        "  print(response)\n",
        "  simplified_text = response.generations[0].text\n",
        "  print(simplified_text)\n",
        "  return simplified_text"
      ]
    },
    {
      "cell_type": "markdown",
      "metadata": {
        "id": "OBy80lH6A2F-"
      },
      "source": [
        "## text processing"
      ]
    },
    {
      "cell_type": "code",
      "execution_count": null,
      "metadata": {
        "id": "MJJuLd-30kd9"
      },
      "outputs": [],
      "source": [
        "from docx import Document"
      ]
    },
    {
      "cell_type": "code",
      "execution_count": null,
      "metadata": {
        "id": "HjRPLKLr4Cr0"
      },
      "outputs": [],
      "source": [
        "from pathlib import Path"
      ]
    },
    {
      "cell_type": "code",
      "execution_count": null,
      "metadata": {
        "id": "nGsQr7VnOch9"
      },
      "outputs": [],
      "source": [
        "def make_output(doc):\n",
        "  # Add a new paragraph\n",
        "  doc.add_paragraph(\"This is a new paragraph added to the document.\")\n",
        "  # Save the modified document\n",
        "  doc.save(\"modified_file.docx\")"
      ]
    },
    {
      "cell_type": "code",
      "execution_count": null,
      "metadata": {
        "id": "7FXyUm0av0X0"
      },
      "outputs": [],
      "source": [
        "def divide_into_paragraphs(text):\n",
        "    \"\"\"\n",
        "    Divides the given text into paragraphs.\n",
        "\n",
        "    Args:\n",
        "        text (str): The input text.\n",
        "\n",
        "    Returns:\n",
        "        list: A list of paragraphs.\n",
        "    \"\"\"\n",
        "    # Split the text by newlines and remove empty paragraphs\n",
        "    paragraphs = [para.strip() for para in text.split('\\n') if para.strip()]\n",
        "    return paragraphs\n",
        "\n",
        "\n"
      ]
    },
    {
      "cell_type": "code",
      "execution_count": null,
      "metadata": {
        "id": "Yp6WQrBf5VOB"
      },
      "outputs": [],
      "source": [
        "def simplify_text_cohere(dict_headings, API_KEY, model, system_prompt):\n",
        "    \"\"\"\n",
        "    Simplifies a document into a dictionary with headings as keys and simplified content as values.\n",
        "\n",
        "    Args:\n",
        "        dict_headings (dict): A dictionary of headings and their associated content.\n",
        "        llm_Qwen_small: Language model to use for simplification.\n",
        "        system_prompt (str): System prompt for the language model.\n",
        "        user_prompt (str): User prompt for the language model.\n",
        "        top_p (float): Top-p sampling parameter.\n",
        "        temperature (float): Temperature parameter.\n",
        "        top_k (int): Top-k sampling parameter.\n",
        "\n",
        "    Returns:\n",
        "        dict: A dictionary with simplified content.\n",
        "    \"\"\"\n",
        "    # Initialize the simplified_dict with existing headings as keys\n",
        "    simplified_dict = {heading: [] for heading in dict_headings}\n",
        "\n",
        "    for heading, para in dict_headings.items():\n",
        "        simplified_para = chat_completion_cohere(para, API_KEY, model, system_prompt)\n",
        "        print(simplified_para)\n",
        "        # Add the simplified paragraph to the dictionary\n",
        "        simplified_dict[heading].append(simplified_para)\n",
        "    return simplified_dict"
      ]
    },
    {
      "cell_type": "code",
      "execution_count": null,
      "metadata": {
        "id": "KpOzfed-zFLV"
      },
      "outputs": [],
      "source": [
        "def rebuild_text_from_dict(simplified_dict):\n",
        "    \"\"\"\n",
        "    Rebuilds text from a dictionary of headings and simplified paragraphs.\n",
        "\n",
        "    Args:\n",
        "        simplified_dict (dict): Dictionary of headings and their simplified paragraphs.\n",
        "\n",
        "    Returns:\n",
        "        str: Reconstructed text with headings followed by simplified paragraphs.\n",
        "    \"\"\"\n",
        "    rebuilt_text = []\n",
        "\n",
        "    for heading, paragraphs in simplified_dict.items():\n",
        "        # Add the heading\n",
        "        rebuilt_text.append(heading)\n",
        "\n",
        "        # Add the simplified paragraphs under the heading\n",
        "        rebuilt_text.extend(paragraphs)\n",
        "\n",
        "        # Add a blank line to separate sections\n",
        "        rebuilt_text.append(\"\")\n",
        "\n",
        "    # Join all parts with a newline and return\n",
        "    return \"\\n\".join(rebuilt_text)\n"
      ]
    },
    {
      "cell_type": "code",
      "execution_count": null,
      "metadata": {
        "id": "gzPQT-oC0gSv"
      },
      "outputs": [],
      "source": [
        "def write_dict_to_docx(simplified_dict, output_path):\n",
        "    \"\"\"\n",
        "    Writes a dictionary of headings and paragraphs into a Word document.\n",
        "\n",
        "    Args:\n",
        "        simplified_dict (dict): Dictionary with headings as keys and paragraphs as values.\n",
        "        output_path (str): Path to save the output Word document.\n",
        "\n",
        "    Returns:\n",
        "        None\n",
        "    \"\"\"\n",
        "    # Create a new Word document\n",
        "    doc = Document()\n",
        "\n",
        "    for heading, paragraphs in simplified_dict.items():\n",
        "        # Add heading\n",
        "        doc.add_heading(heading, level=1)  # Level 1 heading\n",
        "\n",
        "        # Add paragraphs under the heading\n",
        "        for paragraph in paragraphs:\n",
        "            doc.add_paragraph(paragraph)\n",
        "\n",
        "        # Add a blank line for readability (optional)\n",
        "        doc.add_paragraph(\"\")\n",
        "\n",
        "    # Save the document\n",
        "    doc.save(output_path)\n",
        "    print(f\"Document saved to: {output_path}\")"
      ]
    },
    {
      "cell_type": "code",
      "execution_count": null,
      "metadata": {
        "id": "fiBY9a5VXOw6"
      },
      "outputs": [],
      "source": [
        "def write_dict_to_md(simplified_dict, output_path):\n",
        "    \"\"\"\n",
        "    Writes a dictionary of headings and paragraphs into a Markdown (.md) file.\n",
        "\n",
        "    Args:\n",
        "        simplified_dict (dict): Dictionary with headings as keys and paragraphs as values.\n",
        "        output_path (str): Path to save the output Markdown file.\n",
        "\n",
        "    Returns:\n",
        "        None\n",
        "    \"\"\"\n",
        "    with open(output_path, 'w', encoding='utf-8') as md_file:\n",
        "        for heading, paragraphs in simplified_dict.items():\n",
        "            # Write heading in Markdown format (## for level 1 heading)\n",
        "            md_file.write(f\"# {heading}\\n\\n\")\n",
        "\n",
        "            # Write paragraphs under the heading\n",
        "            for paragraph in paragraphs:\n",
        "                md_file.write(f\"{paragraph}\\n\\n\")  # Separate paragraphs with a blank line\n",
        "\n",
        "        print(f\"Markdown file saved to: {output_path}\")\n"
      ]
    },
    {
      "cell_type": "code",
      "execution_count": null,
      "metadata": {
        "id": "Oa0Cn5qe341H"
      },
      "outputs": [],
      "source": [
        "def get_name_file(file_path):\n",
        "  # Extract the file name without extension\n",
        "  file_name_no_ext = Path(file_path).stem\n",
        "  return file_name_no_ext\n",
        "\n"
      ]
    },
    {
      "cell_type": "markdown",
      "metadata": {
        "id": "xzFVN-E2A_mU"
      },
      "source": [
        "## main"
      ]
    },
    {
      "cell_type": "code",
      "execution_count": null,
      "metadata": {
        "id": "d7drann61hzO"
      },
      "outputs": [],
      "source": [
        "pdf_path = '/content/60489-Article Text-189083-1-10-20191001.pdf'"
      ]
    },
    {
      "cell_type": "code",
      "execution_count": null,
      "metadata": {
        "id": "Ea9EYBeLV5LW"
      },
      "outputs": [],
      "source": [
        "doc_path = '/content/Climate Change_ Understanding the Challenge of Our Era.docx'"
      ]
    },
    {
      "cell_type": "code",
      "execution_count": null,
      "metadata": {
        "id": "fI4wQxvZ1Thj"
      },
      "outputs": [],
      "source": [
        "dict_file = open_doc_dict(doc_path)"
      ]
    },
    {
      "cell_type": "code",
      "execution_count": null,
      "metadata": {
        "id": "q680GbvHS-7B"
      },
      "outputs": [],
      "source": [
        "dict_file_pdf = open_pdf_dict(pdf_path)\n",
        "dict_file_pdf # something is wrong here"
      ]
    },
    {
      "cell_type": "code",
      "execution_count": null,
      "metadata": {
        "id": "T5DeHaERWo-B"
      },
      "outputs": [],
      "source": [
        "dict_heading_md = open_md_dict(\"/content/climate.md\")"
      ]
    },
    {
      "cell_type": "code",
      "execution_count": null,
      "metadata": {
        "id": "ssSVAlXxO4Bp"
      },
      "outputs": [],
      "source": [
        "system_prompt = \"You are a text simplification expert. Your task is to rewrite the text in a simple language.\""
      ]
    },
    {
      "cell_type": "code",
      "execution_count": null,
      "metadata": {
        "id": "sOeTFd6I4jOF"
      },
      "outputs": [],
      "source": [
        "top_p, temperature, top_k = [0.2, 0.6, 50]"
      ]
    },
    {
      "cell_type": "code",
      "execution_count": null,
      "metadata": {
        "id": "saZIRGsB44fr"
      },
      "outputs": [],
      "source": [
        "API_KEY = \"\""
      ]
    },
    {
      "cell_type": "code",
      "execution_count": null,
      "metadata": {
        "id": "YEroYaLDFjDG"
      },
      "outputs": [],
      "source": [
        "cohere_model =  \"command-r-plus-08-2024\""
      ]
    },
    {
      "cell_type": "code",
      "execution_count": null,
      "metadata": {
        "id": "3IkdvV8I4eGq"
      },
      "outputs": [],
      "source": [
        "dict_headings = open_doc_dict(doc_path)"
      ]
    },
    {
      "cell_type": "code",
      "execution_count": null,
      "metadata": {
        "id": "tfwtwuw2NzZ5"
      },
      "outputs": [],
      "source": [
        "dict_headings"
      ]
    },
    {
      "cell_type": "code",
      "execution_count": null,
      "metadata": {
        "id": "wY1eD_LCTVpP"
      },
      "outputs": [],
      "source": [
        "dict_headings_pdf = open_pdf_dict(pdf_path)"
      ]
    },
    {
      "cell_type": "code",
      "execution_count": null,
      "metadata": {
        "id": "5zWYvJ3uTc0z"
      },
      "outputs": [],
      "source": [
        "dict_headings_pdf"
      ]
    },
    {
      "cell_type": "code",
      "execution_count": null,
      "metadata": {
        "id": "iTuX78uk6F2f"
      },
      "outputs": [],
      "source": [
        "simplified_dict_cohere = simplify_text_cohere(dict_headings, API_KEY, cohere_model, system_prompt)"
      ]
    },
    {
      "cell_type": "code",
      "execution_count": null,
      "metadata": {
        "colab": {
          "base_uri": "https://localhost:8080/"
        },
        "id": "5h12I6TT75tb",
        "outputId": "e4beca1c-1d50-4a62-f6e5-bd3e2e907d6c"
      },
      "outputs": [
        {
          "name": "stdout",
          "output_type": "stream",
          "text": [
            "Document saved to: /content/climate.docx\n"
          ]
        }
      ],
      "source": [
        "write_dict_to_docx(simplified_dict_cohere, \"/content/climate.docx\")"
      ]
    },
    {
      "cell_type": "code",
      "execution_count": null,
      "metadata": {
        "colab": {
          "base_uri": "https://localhost:8080/"
        },
        "id": "FvuuaGB6F772",
        "outputId": "6a91a80a-5914-4189-e416-7c279087ce38"
      },
      "outputs": [
        {
          "name": "stdout",
          "output_type": "stream",
          "text": [
            "Markdown file saved to: /content/climate.md\n"
          ]
        }
      ],
      "source": [
        "write_dict_to_md(simplified_dict_cohere, \"/content/climate.md\")"
      ]
    },
    {
      "cell_type": "code",
      "execution_count": null,
      "metadata": {
        "id": "MCPUW5qP4KBY"
      },
      "outputs": [],
      "source": [
        "name_file = get_name_file(doc_path)\n",
        "output_path = f\"{name_file}_simplified.docx\""
      ]
    },
    {
      "cell_type": "code",
      "execution_count": null,
      "metadata": {
        "id": "mT3zF2SkYz9h"
      },
      "outputs": [],
      "source": [
        "name_file_md = get_name_file(\"/content/climate.md\")\n",
        "output_path_md = f\"{name_file_md}_simplified.md\""
      ]
    },
    {
      "cell_type": "code",
      "execution_count": null,
      "metadata": {
        "colab": {
          "base_uri": "https://localhost:8080/"
        },
        "id": "CAZS3sVcX91S",
        "outputId": "cf58d4d3-7b90-47fe-a27b-96f1193f4fe6"
      },
      "outputs": [
        {
          "name": "stdout",
          "output_type": "stream",
          "text": [
            "Markdown file saved to: climate_simplified.md\n"
          ]
        }
      ],
      "source": [
        "write_dict_to_md(simplified_dict_md, output_path_md)"
      ]
    },
    {
      "cell_type": "code",
      "execution_count": null,
      "metadata": {
        "colab": {
          "base_uri": "https://localhost:8080/"
        },
        "id": "5mOgmpOW0q2J",
        "outputId": "7885e019-4cf6-4617-f21a-498956daf0d0"
      },
      "outputs": [
        {
          "name": "stdout",
          "output_type": "stream",
          "text": [
            "Document saved to: Climate Change_ Understanding the Challenge of Our Era_simplified.docx\n"
          ]
        }
      ],
      "source": [
        "write_dict_to_docx(simplified_dict, output_path)"
      ]
    }
  ],
  "metadata": {
    "colab": {
      "provenance": []
    },
    "kernelspec": {
      "display_name": "Python 3",
      "name": "python3"
    },
    "language_info": {
      "name": "python"
    }
  },
  "nbformat": 4,
  "nbformat_minor": 0
}